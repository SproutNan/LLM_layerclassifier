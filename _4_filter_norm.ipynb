{
 "cells": [
  {
   "cell_type": "code",
   "execution_count": 4,
   "metadata": {},
   "outputs": [
    {
     "name": "stdout",
     "output_type": "stream",
     "text": [
      "cuda:0\n",
      "cuda:0\n",
      "cuda:0\n",
      "cuda:0\n",
      "cuda:0\n",
      "cuda:0\n",
      "cuda:0\n",
      "cuda:0\n",
      "cuda:0\n",
      "cuda:0\n",
      "cuda:0\n",
      "cuda:0\n"
     ]
    }
   ],
   "source": [
    "import json\n",
    "import torch\n",
    "\n",
    "with open(\"./dataset/gpt2-medium_Pile_5000_25normalized/config.json\") as f:\n",
    "    config = json.load(f)\n",
    "\n",
    "file_num = config[\"file_num\"]\n",
    "\n",
    "for i in range(file_num):\n",
    "    tens = torch.load(f\"./dataset/gpt2-medium_Pile_5000_25normalized/tensor_{i}.pt\")\n",
    "    print(tens.device)\n",
    "    data = tens[:, :-2]\n",
    "    norms = torch.norm(data, dim=1, keepdim=True)\n",
    "    ntens = torch.div(data, norms)\n",
    "\n",
    "    tens = torch.cat((ntens, tens[:, -2:]), dim=1)\n",
    "\n",
    "    torch.save(tens, f\"./dataset/gpt2-medium_Pile_5000_25normalized/tensor_{i}.pt\")\n",
    "\n"
   ]
  },
  {
   "cell_type": "code",
   "execution_count": 5,
   "metadata": {},
   "outputs": [
    {
     "name": "stdout",
     "output_type": "stream",
     "text": [
      "Checking ./dataset/gpt2-medium_Pile_5000_25normalized...\n",
      "file_num: 12, tensor_num_per_file: 260417\n"
     ]
    },
    {
     "name": "stderr",
     "output_type": "stream",
     "text": [
      "Checking files: 100%|██████████| 12/12 [00:00<00:00, 35951.18it/s]"
     ]
    },
    {
     "name": "stdout",
     "output_type": "stream",
     "text": [
      "./dataset/gpt2-medium_Pile_5000_25normalized is complete\n"
     ]
    },
    {
     "name": "stderr",
     "output_type": "stream",
     "text": [
      "\n",
      "Training Progress: 100%|██████████| 1000/1000 [33:07<00:00,  1.99s/it]\n"
     ]
    }
   ],
   "source": [
    "from configclasses import TaskConfig\n",
    "\n",
    "\n",
    "config = TaskConfig(\n",
    "    subject_model_name='gpt2-medium',\n",
    "    input_corpus_dataset_name='Pile',\n",
    "    input_corpus_datapoint_num=5000,\n",
    "    context_window=25,\n",
    ")\n",
    "\n",
    "from classifier import *\n",
    "from embeddings import LoadEmbeddingDataset\n",
    "from configclasses import TrainResult\n",
    "\n",
    "clsfer = LayerClassifier()\n",
    "dataset = LoadEmbeddingDataset(config.task_name() + 'normalized')\n",
    "\n",
    "loss, acc = clsfer.train(dataset)\n",
    "\n",
    "result = TrainResult(\n",
    "    task_config=config,\n",
    "    train_loss=loss,\n",
    "    test_accuracy=acc,\n",
    ")"
   ]
  },
  {
   "cell_type": "code",
   "execution_count": 7,
   "metadata": {},
   "outputs": [
    {
     "name": "stdout",
     "output_type": "stream",
     "text": [
      "Model saved to ./result/IM_gpt2-medium_Pile_5000_25normalized.model\n"
     ]
    }
   ],
   "source": [
    "with open(f'./result/{config.task_name()}normalized.json', 'w') as f:\n",
    "    json.dump({\n",
    "        'task_name': config.task_name(),\n",
    "        'train_loss': result.train_loss,\n",
    "        'test_accuracy': result.test_accuracy\n",
    "    }, f)\n",
    "\n",
    "clsfer.interpret_model.save(f'./result/IM_{config.task_name()}normalized.model')"
   ]
  }
 ],
 "metadata": {
  "kernelspec": {
   "display_name": "hrx",
   "language": "python",
   "name": "python3"
  },
  "language_info": {
   "codemirror_mode": {
    "name": "ipython",
    "version": 3
   },
   "file_extension": ".py",
   "mimetype": "text/x-python",
   "name": "python",
   "nbconvert_exporter": "python",
   "pygments_lexer": "ipython3",
   "version": "3.10.11"
  }
 },
 "nbformat": 4,
 "nbformat_minor": 2
}
