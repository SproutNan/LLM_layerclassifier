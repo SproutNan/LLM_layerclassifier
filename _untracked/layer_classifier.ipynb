{
 "cells": [
  {
   "cell_type": "markdown",
   "metadata": {},
   "source": [
    "来做一下之前说的用普通的深度神经网络来区分不同 layer 的 embedding（可能也包含position）\n",
    "- 首先需要build数据集，数据集每条就是一个embedding，label有两个，一个是embedding是来自于哪个layer的，另一个是embedding是来自于哪个position的\n",
    "  - 搭建一个 hook 来获取 embedding\n",
    "  - 选定要用来 inference 的数据集"
   ]
  },
  {
   "cell_type": "code",
   "execution_count": 1,
   "metadata": {},
   "outputs": [],
   "source": [
    "from exps.gpt2 import GPT2Wrapper\n",
    "from typing import Any\n",
    "import functools\n",
    "import torch\n",
    "\n",
    "# inference_max_len = 50 # 每个输入用于推理的句子的最大长度\n",
    "            \n",
    "    def task_inference(self, input):\n",
    "        input_tokens = input.split(' ')\n",
    "        input_tokens = input_tokens[:self.iml*2]\n",
    "        input = ' '.join(input_tokens)\n",
    "        # check if input > max_len tokens\n",
    "        token_num = self.encode_input(input).shape[1]\n",
    "        if token_num < self.iml:\n",
    "            return None\n",
    "        \n",
    "        container = torch.zeros(self.iml, self.n_layer + 1, self.n_embd)\n",
    "        container = self.inference(input, container) # [max_len, n_layer + 1, n_embd]\n",
    "        original_shape = container.shape\n",
    "        container = container.view(original_shape[0] * original_shape[1], original_shape[2]) # [max_len * (n_layer + 1), n_embd]\n",
    "\n",
    "        # 现在 container 相当于是 max_len * (n_layer + 1) 个向量，每个向量是 n_embd 维的\n",
    "        # 现在希望再拓展两个维度，变成 max_len * (n_layer + 1) 个 (n_embd + 2) 维的向量，后两维分别是 layer 和 position\n",
    "\n",
    "        layer = torch.arange(self.n_layer + 1).repeat(self.iml).view(-1, 1).float() # [max_len * (n_layer + 1), 1]\n",
    "        position = torch.arange(self.iml).repeat(self.n_layer + 1).view(-1, 1).float() # [max_len * (n_layer + 1), 1]\n",
    "        container = torch.cat([container, layer, position], dim=1) # [max_len * (n_layer + 1), n_embd + 2]\n",
    "\n",
    "        # 现在 container 是 max_len * (n_layer + 1) 个 (n_embd + 2) 维的向量\n",
    "        return container\n",
    "\n",
    "from torchtext import datasets\n",
    "import random\n",
    "\n",
    "def make_dataset(num, dataset='IMDB'):\n",
    "    if dataset == 'IMDB':\n",
    "        train_iter, _ = datasets.IMDB()\n",
    "        train_data = list(train_iter)\n",
    "        train_data: list[str] = [x[1] for x in train_data]\n",
    "    else:\n",
    "        raise ValueError('Unknown dataset')\n",
    "\n",
    "    datapoints_num = len(train_data)\n",
    "\n",
    "    assert num <= datapoints_num, 'Number of datapoints is too large'\n",
    "\n",
    "    random.shuffle(train_data)\n",
    "    train_data = train_data[:num]\n",
    "\n",
    "    return train_data"
   ]
  },
  {
   "cell_type": "code",
   "execution_count": 2,
   "metadata": {},
   "outputs": [],
   "source": [
    "task_cfg = {\n",
    "    'model_name': 'gpt2',\n",
    "    'inference_max_len': 50,\n",
    "    'dataset_datapoints_num': 500,\n",
    "}"
   ]
  },
  {
   "cell_type": "code",
   "execution_count": null,
   "metadata": {},
   "outputs": [],
   "source": [
    "import torch\n",
    "from torch import nn, optim\n",
    "from torch.utils.data import DataLoader, TensorDataset\n",
    "from sklearn.datasets import make_classification\n",
    "from sklearn.model_selection import train_test_split\n",
    "import numpy as np\n",
    "from tqdm.notebook import tqdm\n",
    "from matplotlib import pyplot as plt\n",
    "\n",
    "def run(config):\n",
    "    model_name = config['model_name']\n",
    "    inference_max_len = config['inference_max_len']\n",
    "    dataset_datapoints_num = config['dataset_datapoints_num']\n",
    "\n",
    "    # 创建模型\n",
    "    model = Model(model_name, inference_max_len)\n",
    "    tokenizer = model.tokenizer\n",
    "\n",
    "    # 数据集创建\n",
    "    train_data = make_dataset(dataset_datapoints_num)\n",
    "    dataset = torch.zeros(dataset_datapoints_num * inference_max_len * (model.n_layer + 1), model.n_embd + 2)\n",
    "    processed_idx = 0\n",
    "\n",
    "    for i, x in enumerate(train_data):\n",
    "        container = model.task_inference(x)\n",
    "        if container is None:\n",
    "            print(f'Warning: {i}th data is too short')\n",
    "            continue\n",
    "\n",
    "        dataset[processed_idx:processed_idx+inference_max_len*(model.n_layer+1)] = container\n",
    "        processed_idx += inference_max_len * (model.n_layer + 1)\n",
    "\n",
    "    dataset = dataset[:processed_idx]\n",
    "\n",
    "    # 训练线性回归模型\n",
    "    n_samples, n_features = config['dataset_datapoints_num'], model.n_embd  # 样本数和特征数\n",
    "    n_classes = model.n_layer + 1  # 类别数\n",
    "\n",
    "    X_train, X_test, Y_train, Y_test = train_test_split(dataset[:, :-2], dataset[:, -2], test_size=0.2, random_state=0)\n",
    "    X_train = torch.tensor(X_train, dtype=torch.float32)\n",
    "    Y_train = torch.tensor(Y_train, dtype=torch.long)\n",
    "    X_test = torch.tensor(X_test, dtype=torch.float32)\n",
    "    Y_test = torch.tensor(Y_test, dtype=torch.long)\n",
    "\n",
    "    # 数据加载器\n",
    "    dataset = TensorDataset(X_train, Y_train)\n",
    "    dataloader = DataLoader(dataset, batch_size=64, shuffle=True)\n",
    "\n",
    "    # 定义模型\n",
    "    class LogisticRegressionModel(nn.Module):\n",
    "        def __init__(self, n_input_features, n_output_classes):\n",
    "            super(LogisticRegressionModel, self).__init__()\n",
    "            self.linear = nn.Linear(n_input_features, n_output_classes)\n",
    "\n",
    "        def forward(self, x):\n",
    "            return self.linear(x)\n",
    "\n",
    "    model = LogisticRegressionModel(n_features, n_classes)\n",
    "\n",
    "    # 损失函数和优化器\n",
    "    criterion = nn.CrossEntropyLoss()\n",
    "    optimizer = optim.SGD(model.parameters(), lr=0.01)\n",
    "\n",
    "    # 训练模型\n",
    "    n_epochs = 100  # 训练轮数\n",
    "\n",
    "    # use tqdm to show progress, and collect loss, draw a loss curve finally\n",
    "    loss_list = []\n",
    "    for epoch in tqdm(range(n_epochs)):\n",
    "        for X, Y in dataloader:\n",
    "            # forward pass\n",
    "            Yhat = model(X)\n",
    "            loss = criterion(Yhat, Y)\n",
    "\n",
    "            # backward pass\n",
    "            optimizer.zero_grad()\n",
    "            loss.backward()\n",
    "            optimizer.step()\n",
    "\n",
    "        loss_list.append(loss.item())\n",
    "\n",
    "    # 训练完毕，创建一个新的画布，绘制 loss 曲线\n",
    "    plt.plot(loss_list)\n",
    "    plt.xlabel('Epoch')\n",
    "    plt.ylabel('Loss')\n",
    "    plt.show()\n",
    "\n",
    "    # 测试模型\n",
    "    model.eval()\n",
    "    with torch.no_grad():\n",
    "        Yhat = model(X_test)\n",
    "        _, Yhat = Yhat.max(1)\n",
    "        accuracy = (Yhat == Y_test).sum().item() / Y_test.size(0)\n",
    "        print(f'Accuracy: {accuracy}', \"cfg = \", config)"
   ]
  },
  {
   "cell_type": "code",
   "execution_count": 3,
   "metadata": {},
   "outputs": [
    {
     "name": "stdout",
     "output_type": "stream",
     "text": [
      "74th data is too short\n",
      "275th data is too short\n",
      "315th data is too short\n",
      "381th data is too short\n"
     ]
    }
   ],
   "source": [
    "run(task_cfg)"
   ]
  },
  {
   "cell_type": "code",
   "execution_count": 4,
   "metadata": {},
   "outputs": [
    {
     "data": {
      "text/plain": [
       "<matplotlib.colorbar.Colorbar at 0x7f0dec672c50>"
      ]
     },
     "execution_count": 4,
     "metadata": {},
     "output_type": "execute_result"
    },
    {
     "data": {
      "image/png": "[encoded data removed]",
      "text/plain": [
       "<Figure size 640x480 with 2 Axes>"
      ]
     },
     "metadata": {},
     "output_type": "display_data"
    }
   ],
   "source": [
    "# # PCA reduction baseline\n",
    "# from sklearn.decomposition import PCA\n",
    "# import matplotlib.pyplot as plt\n",
    "\n",
    "# pca = PCA(n_components=2)\n",
    "# # 截取 dataset 前 n_embd 列\n",
    "# dataset_forPCA = dataset[:, :model.n_embd]\n",
    "# # normalize\n",
    "# dataset_forPCA = (dataset_forPCA - dataset_forPCA.mean()) / dataset_forPCA.std()\n",
    "# dataset_layer = dataset[:, model.n_embd]\n",
    "\n",
    "# # PCA 降维\n",
    "# dataset_forPCA = pca.fit_transform(dataset_forPCA)\n",
    "\n",
    "# # 绘制 PCA 降维结果, 每个点的颜色代表其所在的 layer, 色谱使用rainbow\n",
    "# plt.scatter(dataset_forPCA[:, 0], dataset_forPCA[:, 1], c=dataset_layer, cmap='rainbow')\n",
    "# plt.colorbar()\n"
   ]
  }
 ],
 "metadata": {
  "kernelspec": {
   "display_name": "hrx",
   "language": "python",
   "name": "python3"
  },
  "language_info": {
   "codemirror_mode": {
    "name": "ipython",
    "version": 3
   },
   "file_extension": ".py",
   "mimetype": "text/x-python",
   "name": "python",
   "nbconvert_exporter": "python",
   "pygments_lexer": "ipython3",
   "version": "3.10.11"
  }
 },
 "nbformat": 4,
 "nbformat_minor": 2
}
